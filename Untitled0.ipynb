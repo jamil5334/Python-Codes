{
  "nbformat": 4,
  "nbformat_minor": 0,
  "metadata": {
    "colab": {
      "provenance": [],
      "authorship_tag": "ABX9TyOGeri4akrfmrS0enlSMLm1",
      "include_colab_link": true
    },
    "kernelspec": {
      "name": "python3",
      "display_name": "Python 3"
    },
    "language_info": {
      "name": "python"
    }
  },
  "cells": [
    {
      "cell_type": "markdown",
      "metadata": {
        "id": "view-in-github",
        "colab_type": "text"
      },
      "source": [
        "<a href=\"https://colab.research.google.com/github/jamil5334/Python-Codes/blob/main/Untitled0.ipynb\" target=\"_parent\"><img src=\"https://colab.research.google.com/assets/colab-badge.svg\" alt=\"Open In Colab\"/></a>"
      ]
    },
    {
      "cell_type": "code",
      "execution_count": null,
      "metadata": {
        "id": "ix3gu9chKXLb"
      },
      "outputs": [],
      "source": [
        "# Importint libraries and the dataset\n",
        "import pandas as pd\n",
        "\n",
        "data = pd.read_csv('machinesensordata.csv')\n",
        "data\n",
        "data.info()\n",
        "data.describe()\n",
        "<class 'pandas.core.frame.DataFrame'>\n",
        "RangeIndex: 10000 entries, 0 to 9999\n",
        "Data columns (total 6 columns):\n",
        " #   Column                   Non-Null Count  Dtype\n",
        "---  ------                   --------------  -----\n",
        " 1   Air temperature [K]      10000 non-null  float64\n",
        " 2   Process temperature [K]  10000 non-null  float64\n",
        " 3   Rotational speed [rpm]   10000 non-null  int64\n",
        " 4   Tool wear [min]          10000 non-null  int64\n",
        " 5   Machine failure          10000 non-null  int64\n",
        "dtypes: float64(2), int64(3),\n",
        "memory usage: 1.0+ MB\n",
        "\n",
        "null_values = data.isnull().sum()\n",
        "null_values\n",
        "\n",
        "#label encoding\n",
        "#Label encoding\n",
        "from sklearn.preprocessing import LabelEncoder\n",
        "\n",
        "le = LabelEncoder()\n",
        "for col in data.columns:\n",
        "    if data[col].dtype == object:\n",
        "        data[col] = le.fit_transform(data[col])\n",
        "data\n",
        "\n",
        "#Splitting data into X and y\n",
        "X = data.drop(['Machine failure', 'TWF', 'HDF', 'PWF', 'OSF', 'RNF'], axis=1)\n",
        "X\n",
        "\n",
        "y = data['Machine failure']\n",
        "y\n",
        "\n",
        "from sklearn.model_selection import train_test_split\n",
        "from sklearn.metrics import r2_score\n",
        "\n",
        "\n",
        "X_train, X_test, y_train, y_test = train_test_split(X,y, test_size=0.2, random_state=100)\n",
        "\n",
        "X_train\n",
        "\n",
        "X_test\n",
        "\n",
        "#MODEL\n",
        "from sklearn.linear_model import LinearRegression\n",
        "\n",
        "lr = LinearRegression()\n",
        "lr.fit(X_train, y_train)\n",
        "\n",
        "y_train_pred = lr.predict(X_train)\n",
        "y_test_pred = lr.predict(X_test)\n",
        "\n",
        "y_train_pred\n",
        "\n",
        "y_test_pred\n",
        "\n",
        "accuracy = r2_score(y_test, y_test_pred)\n",
        "print(f\"R-squared accuracy: {accuracy:.2f}\")\n",
        "\n"
      ]
    }
  ]
}